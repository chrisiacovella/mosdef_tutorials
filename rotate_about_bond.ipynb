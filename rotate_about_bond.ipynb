{
 "cells": [
  {
   "cell_type": "code",
   "execution_count": 1,
   "id": "73431c15-1ba6-4a28-9508-5e51c8e29742",
   "metadata": {},
   "outputs": [],
   "source": [
    "import mbuild as mb\n",
    "import numpy as np\n",
    "import warnings\n",
    "warnings.filterwarnings('ignore')"
   ]
  },
  {
   "cell_type": "markdown",
   "id": "d757f47e-381e-4aa2-8370-7c1aaefd1bb9",
   "metadata": {},
   "source": [
    "This notebook will demonstrate how to rotate about a given bond, useful for mapping out configurations for use in calculating the energy of a dihedral. \n",
    "\n",
    "Let us start by initializing an ethane compound."
   ]
  },
  {
   "cell_type": "code",
   "execution_count": 2,
   "id": "49a4f655-3be6-4b89-8db6-737aa5c86866",
   "metadata": {},
   "outputs": [],
   "source": [
    "ethane_comp = mb.load('CC', smiles=True)"
   ]
  },
  {
   "cell_type": "markdown",
   "id": "f8ee479d-d16f-468a-a8da-e7e4007a12ed",
   "metadata": {},
   "source": [
    "Let us print out the order of the particles in the compound to figure out which indices are the two carbon atoms.  We'll need these to do the rotation."
   ]
  },
  {
   "cell_type": "code",
   "execution_count": 8,
   "id": "0bda7c42-4d88-44bc-9ce9-af50d0793641",
   "metadata": {},
   "outputs": [
    {
     "name": "stdout",
     "output_type": "stream",
     "text": [
      "<C pos=([-0.0759  0.0018  0.0021]), 4 bonds, id: 5364434016>\n",
      "<C pos=([ 0.0759 -0.0018 -0.0021]), 4 bonds, id: 5364434496>\n",
      "<H pos=([-0.1141 -0.0854  0.0593]), 1 bonds, id: 5505631328>\n",
      "<H pos=([-0.1099  0.0954  0.0513]), 1 bonds, id: 5505631760>\n",
      "<H pos=([-0.1165 -0.0018 -0.1012]), 1 bonds, id: 5364434928>\n",
      "<H pos=([ 0.1099 -0.0954 -0.0513]), 1 bonds, id: 5364435120>\n",
      "<H pos=([ 0.1141  0.0854 -0.0593]), 1 bonds, id: 5505631712>\n",
      "<H pos=([0.1165 0.0018 0.1012]), 1 bonds, id: 5505632768>\n"
     ]
    }
   ],
   "source": [
    "for particle in ethane_comp.particles(): print(particle)"
   ]
  },
  {
   "cell_type": "markdown",
   "id": "a0d385f9-3d14-4217-9280-4ba3a82d2a37",
   "metadata": {},
   "source": [
    "The first two particles correspond to the carbons, so we just need to pass these, as a tuple, to the rotate_dihedral function.  \n",
    "\n",
    "Note, in the code below I just clone the compound to \"temp\" so that I could show them all on the same screen (I'll translate each compound in the x direction by 0.5 nm so we see them spaced out)"
   ]
  },
  {
   "cell_type": "code",
   "execution_count": 9,
   "id": "34c075b4-d65b-49a4-8370-ca6eb2d60cc3",
   "metadata": {},
   "outputs": [
    {
     "data": {
      "application/3dmoljs_load.v0": "<div id=\"3dmolviewer_16870422492601511\"  style=\"position: relative; width: 640px; height: 480px\">\n        <p id=\"3dmolwarning_16870422492601511\" style=\"background-color:#ffcccc;color:black\">You appear to be running in JupyterLab (or JavaScript failed to load for some other reason).  You need to install the 3dmol extension: <br>\n        <tt>jupyter labextension install jupyterlab_3dmol</tt></p>\n        </div>\n<script>\n\nvar loadScriptAsync = function(uri){\n  return new Promise((resolve, reject) => {\n    //this is to ignore the existence of requirejs amd\n    var savedexports, savedmodule;\n    if (typeof exports !== 'undefined') savedexports = exports;\n    else exports = {}\n    if (typeof module !== 'undefined') savedmodule = module;\n    else module = {}\n\n    var tag = document.createElement('script');\n    tag.src = uri;\n    tag.async = true;\n    tag.onload = () => {\n        exports = savedexports;\n        module = savedmodule;\n        resolve();\n    };\n  var firstScriptTag = document.getElementsByTagName('script')[0];\n  firstScriptTag.parentNode.insertBefore(tag, firstScriptTag);\n});\n};\n\nif(typeof $3Dmolpromise === 'undefined') {\n$3Dmolpromise = null;\n  $3Dmolpromise = loadScriptAsync('https://cdnjs.cloudflare.com/ajax/libs/3Dmol/2.0.1/3Dmol-min.js');\n}\n\nvar viewer_16870422492601511 = null;\nvar warn = document.getElementById(\"3dmolwarning_16870422492601511\");\nif(warn) {\n    warn.parentNode.removeChild(warn);\n}\n$3Dmolpromise.then(function() {\nviewer_16870422492601511 = $3Dmol.createViewer(document.getElementById(\"3dmolviewer_16870422492601511\"),{backgroundColor:\"white\"});\nviewer_16870422492601511.zoomTo();\n\tviewer_16870422492601511.addModel(\"@<TRIPOS>MOLECULE\\nCompound\\n48 42 6 0 1\\nBIOPOLYMER\\nNO_CHARGES\\n@<TRIPOS>CRYSIN\\n   32.3329     6.9689     7.0572    90.0000    90.0000    90.0000 1 1\\n@<TRIPOS>ATOM\\n       1 C           -0.7591     0.0183     0.0212 C             1 Compound\\n       2 C            0.7591    -0.0183    -0.0212 C             1 Compound\\n       3 H           -1.1408    -0.8536     0.5931 H             1 Compound\\n       4 H           -1.0995     0.9536     0.5134 H             1 Compound\\n       5 H           -1.1654    -0.0180    -1.0116 H             1 Compound\\n       6 H            1.0995    -0.9536    -0.5134 H             1 Compound\\n       7 H            1.1408     0.8536    -0.5931 H             1 Compound\\n       8 H            1.1654     0.0180     1.0116 H             1 Compound\\n       9 C            4.2409     0.0183     0.0212 C             2 Compound\\n      10 C            5.7591    -0.0183    -0.0212 C             2 Compound\\n      11 H            3.8592    -0.8536     0.5931 H             2 Compound\\n      12 H            3.9005     0.9536     0.5134 H             2 Compound\\n      13 H            3.8346    -0.0180    -1.0116 H             2 Compound\\n      14 H            6.0976    -0.8586    -0.6632 H             2 Compound\\n      15 H            6.1471     0.9358    -0.4361 H             2 Compound\\n      16 H            6.1609    -0.1592     1.0043 H             2 Compound\\n      17 C            9.2409     0.0183     0.0212 C             3 Compound\\n      18 C           10.7591    -0.0183    -0.0212 C             3 Compound\\n      19 H            8.8592    -0.8536     0.5931 H             3 Compound\\n      20 H            8.9005     0.9536     0.5134 H             3 Compound\\n      21 H            8.8346    -0.0180    -1.0116 H             3 Compound\\n      22 H           11.0968    -0.7397    -0.7948 H             3 Compound\\n      23 H           11.1532     0.9902    -0.2674 H             3 Compound\\n      24 H           11.1557    -0.3326     0.9672 H             3 Compound\\n      25 C           14.2409     0.0183     0.0212 C             4 Compound\\n      26 C           15.7591    -0.0183    -0.0212 C             4 Compound\\n      27 H           13.8592    -0.8536     0.5931 H             4 Compound\\n      28 H           13.9005     0.9536     0.5134 H             4 Compound\\n      29 H           13.8346    -0.0180    -1.0116 H             4 Compound\\n      30 H           16.0971    -0.6002    -0.9044 H             4 Compound\\n      31 H           16.1587     1.0153    -0.0919 H             4 Compound\\n      32 H           16.1499    -0.4971     0.9013 H             4 Compound\\n      33 C           19.2409     0.0183     0.0212 C             5 Compound\\n      34 C           20.7591    -0.0183    -0.0212 C             5 Compound\\n      35 H           18.8592    -0.8536     0.5931 H             5 Compound\\n      36 H           18.9005     0.9536     0.5134 H             5 Compound\\n      37 H           18.8346    -0.0180    -1.0116 H             5 Compound\\n      38 H           21.0985    -0.4442    -0.9888 H             5 Compound\\n      39 H           21.1635     1.0103     0.0854 H             5 Compound\\n      40 H           21.1437    -0.6482     0.8085 H             5 Compound\\n      41 C           24.2409     0.0183     0.0212 C             6 Compound\\n      42 C           25.7591    -0.0183    -0.0212 C             6 Compound\\n      43 H           23.8592    -0.8536     0.5931 H             6 Compound\\n      44 H           23.9005     0.9536     0.5134 H             6 Compound\\n      45 H           23.8346    -0.0180    -1.0116 H             6 Compound\\n      46 H           26.1009    -0.2762    -1.0457 H             6 Compound\\n      47 H           26.1675     0.9754     0.2592 H             6 Compound\\n      48 H           26.1372    -0.7813     0.6914 H             6 Compound\\n@<TRIPOS>BOND\\n       1        1        2 1\\n       2        1        3 1\\n       3        1        4 1\\n       4        1        5 1\\n       5        2        6 1\\n       6        2        7 1\\n       7        2        8 1\\n       8        9       10 1\\n       9        9       11 1\\n      10        9       12 1\\n      11        9       13 1\\n      12       10       14 1\\n      13       10       15 1\\n      14       10       16 1\\n      15       17       18 1\\n      16       17       19 1\\n      17       17       20 1\\n      18       17       21 1\\n      19       18       22 1\\n      20       18       23 1\\n      21       18       24 1\\n      22       25       26 1\\n      23       25       27 1\\n      24       25       28 1\\n      25       25       29 1\\n      26       26       30 1\\n      27       26       31 1\\n      28       26       32 1\\n      29       33       34 1\\n      30       33       35 1\\n      31       33       36 1\\n      32       33       37 1\\n      33       34       38 1\\n      34       34       39 1\\n      35       34       40 1\\n      36       41       42 1\\n      37       41       43 1\\n      38       41       44 1\\n      39       41       45 1\\n      40       42       46 1\\n      41       42       47 1\\n      42       42       48 1\\n@<TRIPOS>SUBSTRUCTURE\\n       1 Compound        1 RESIDUE    0 **** ROOT      0\\n       2 Compound        9 RESIDUE    0 **** ROOT      0\\n       3 Compound       17 RESIDUE    0 **** ROOT      0\\n       4 Compound       25 RESIDUE    0 **** ROOT      0\\n       5 Compound       33 RESIDUE    0 **** ROOT      0\\n       6 Compound       41 RESIDUE    0 **** ROOT      0\\n\",\"mol2\");\n\tviewer_16870422492601511.setStyle({\"stick\": {\"radius\": 0.2, \"color\": \"grey\"}, \"sphere\": {\"scale\": 0.3, \"colorscheme\": {}}});\n\tviewer_16870422492601511.zoomTo();\nviewer_16870422492601511.render();\n});\n</script>",
      "text/html": [
       "<div id=\"3dmolviewer_16870422492601511\"  style=\"position: relative; width: 640px; height: 480px\">\n",
       "        <p id=\"3dmolwarning_16870422492601511\" style=\"background-color:#ffcccc;color:black\">You appear to be running in JupyterLab (or JavaScript failed to load for some other reason).  You need to install the 3dmol extension: <br>\n",
       "        <tt>jupyter labextension install jupyterlab_3dmol</tt></p>\n",
       "        </div>\n",
       "<script>\n",
       "\n",
       "var loadScriptAsync = function(uri){\n",
       "  return new Promise((resolve, reject) => {\n",
       "    //this is to ignore the existence of requirejs amd\n",
       "    var savedexports, savedmodule;\n",
       "    if (typeof exports !== 'undefined') savedexports = exports;\n",
       "    else exports = {}\n",
       "    if (typeof module !== 'undefined') savedmodule = module;\n",
       "    else module = {}\n",
       "\n",
       "    var tag = document.createElement('script');\n",
       "    tag.src = uri;\n",
       "    tag.async = true;\n",
       "    tag.onload = () => {\n",
       "        exports = savedexports;\n",
       "        module = savedmodule;\n",
       "        resolve();\n",
       "    };\n",
       "  var firstScriptTag = document.getElementsByTagName('script')[0];\n",
       "  firstScriptTag.parentNode.insertBefore(tag, firstScriptTag);\n",
       "});\n",
       "};\n",
       "\n",
       "if(typeof $3Dmolpromise === 'undefined') {\n",
       "$3Dmolpromise = null;\n",
       "  $3Dmolpromise = loadScriptAsync('https://cdnjs.cloudflare.com/ajax/libs/3Dmol/2.0.1/3Dmol-min.js');\n",
       "}\n",
       "\n",
       "var viewer_16870422492601511 = null;\n",
       "var warn = document.getElementById(\"3dmolwarning_16870422492601511\");\n",
       "if(warn) {\n",
       "    warn.parentNode.removeChild(warn);\n",
       "}\n",
       "$3Dmolpromise.then(function() {\n",
       "viewer_16870422492601511 = $3Dmol.createViewer(document.getElementById(\"3dmolviewer_16870422492601511\"),{backgroundColor:\"white\"});\n",
       "viewer_16870422492601511.zoomTo();\n",
       "\tviewer_16870422492601511.addModel(\"@<TRIPOS>MOLECULE\\nCompound\\n48 42 6 0 1\\nBIOPOLYMER\\nNO_CHARGES\\n@<TRIPOS>CRYSIN\\n   32.3329     6.9689     7.0572    90.0000    90.0000    90.0000 1 1\\n@<TRIPOS>ATOM\\n       1 C           -0.7591     0.0183     0.0212 C             1 Compound\\n       2 C            0.7591    -0.0183    -0.0212 C             1 Compound\\n       3 H           -1.1408    -0.8536     0.5931 H             1 Compound\\n       4 H           -1.0995     0.9536     0.5134 H             1 Compound\\n       5 H           -1.1654    -0.0180    -1.0116 H             1 Compound\\n       6 H            1.0995    -0.9536    -0.5134 H             1 Compound\\n       7 H            1.1408     0.8536    -0.5931 H             1 Compound\\n       8 H            1.1654     0.0180     1.0116 H             1 Compound\\n       9 C            4.2409     0.0183     0.0212 C             2 Compound\\n      10 C            5.7591    -0.0183    -0.0212 C             2 Compound\\n      11 H            3.8592    -0.8536     0.5931 H             2 Compound\\n      12 H            3.9005     0.9536     0.5134 H             2 Compound\\n      13 H            3.8346    -0.0180    -1.0116 H             2 Compound\\n      14 H            6.0976    -0.8586    -0.6632 H             2 Compound\\n      15 H            6.1471     0.9358    -0.4361 H             2 Compound\\n      16 H            6.1609    -0.1592     1.0043 H             2 Compound\\n      17 C            9.2409     0.0183     0.0212 C             3 Compound\\n      18 C           10.7591    -0.0183    -0.0212 C             3 Compound\\n      19 H            8.8592    -0.8536     0.5931 H             3 Compound\\n      20 H            8.9005     0.9536     0.5134 H             3 Compound\\n      21 H            8.8346    -0.0180    -1.0116 H             3 Compound\\n      22 H           11.0968    -0.7397    -0.7948 H             3 Compound\\n      23 H           11.1532     0.9902    -0.2674 H             3 Compound\\n      24 H           11.1557    -0.3326     0.9672 H             3 Compound\\n      25 C           14.2409     0.0183     0.0212 C             4 Compound\\n      26 C           15.7591    -0.0183    -0.0212 C             4 Compound\\n      27 H           13.8592    -0.8536     0.5931 H             4 Compound\\n      28 H           13.9005     0.9536     0.5134 H             4 Compound\\n      29 H           13.8346    -0.0180    -1.0116 H             4 Compound\\n      30 H           16.0971    -0.6002    -0.9044 H             4 Compound\\n      31 H           16.1587     1.0153    -0.0919 H             4 Compound\\n      32 H           16.1499    -0.4971     0.9013 H             4 Compound\\n      33 C           19.2409     0.0183     0.0212 C             5 Compound\\n      34 C           20.7591    -0.0183    -0.0212 C             5 Compound\\n      35 H           18.8592    -0.8536     0.5931 H             5 Compound\\n      36 H           18.9005     0.9536     0.5134 H             5 Compound\\n      37 H           18.8346    -0.0180    -1.0116 H             5 Compound\\n      38 H           21.0985    -0.4442    -0.9888 H             5 Compound\\n      39 H           21.1635     1.0103     0.0854 H             5 Compound\\n      40 H           21.1437    -0.6482     0.8085 H             5 Compound\\n      41 C           24.2409     0.0183     0.0212 C             6 Compound\\n      42 C           25.7591    -0.0183    -0.0212 C             6 Compound\\n      43 H           23.8592    -0.8536     0.5931 H             6 Compound\\n      44 H           23.9005     0.9536     0.5134 H             6 Compound\\n      45 H           23.8346    -0.0180    -1.0116 H             6 Compound\\n      46 H           26.1009    -0.2762    -1.0457 H             6 Compound\\n      47 H           26.1675     0.9754     0.2592 H             6 Compound\\n      48 H           26.1372    -0.7813     0.6914 H             6 Compound\\n@<TRIPOS>BOND\\n       1        1        2 1\\n       2        1        3 1\\n       3        1        4 1\\n       4        1        5 1\\n       5        2        6 1\\n       6        2        7 1\\n       7        2        8 1\\n       8        9       10 1\\n       9        9       11 1\\n      10        9       12 1\\n      11        9       13 1\\n      12       10       14 1\\n      13       10       15 1\\n      14       10       16 1\\n      15       17       18 1\\n      16       17       19 1\\n      17       17       20 1\\n      18       17       21 1\\n      19       18       22 1\\n      20       18       23 1\\n      21       18       24 1\\n      22       25       26 1\\n      23       25       27 1\\n      24       25       28 1\\n      25       25       29 1\\n      26       26       30 1\\n      27       26       31 1\\n      28       26       32 1\\n      29       33       34 1\\n      30       33       35 1\\n      31       33       36 1\\n      32       33       37 1\\n      33       34       38 1\\n      34       34       39 1\\n      35       34       40 1\\n      36       41       42 1\\n      37       41       43 1\\n      38       41       44 1\\n      39       41       45 1\\n      40       42       46 1\\n      41       42       47 1\\n      42       42       48 1\\n@<TRIPOS>SUBSTRUCTURE\\n       1 Compound        1 RESIDUE    0 **** ROOT      0\\n       2 Compound        9 RESIDUE    0 **** ROOT      0\\n       3 Compound       17 RESIDUE    0 **** ROOT      0\\n       4 Compound       25 RESIDUE    0 **** ROOT      0\\n       5 Compound       33 RESIDUE    0 **** ROOT      0\\n       6 Compound       41 RESIDUE    0 **** ROOT      0\\n\",\"mol2\");\n",
       "\tviewer_16870422492601511.setStyle({\"stick\": {\"radius\": 0.2, \"color\": \"grey\"}, \"sphere\": {\"scale\": 0.3, \"colorscheme\": {}}});\n",
       "\tviewer_16870422492601511.zoomTo();\n",
       "viewer_16870422492601511.render();\n",
       "});\n",
       "</script>"
      ]
     },
     "metadata": {},
     "output_type": "display_data"
    },
    {
     "data": {
      "text/plain": [
       "<py3Dmol.view at 0x14878c040>"
      ]
     },
     "execution_count": 9,
     "metadata": {},
     "output_type": "execute_result"
    }
   ],
   "source": [
    "system = mb.Compound()\n",
    "for i in range(0,6):\n",
    "    temp = mb.clone(ethane_comp)\n",
    "    temp.rotate_dihedral((temp.children[0], temp.children[1]),phi=i*0.17 )\n",
    "    temp.translate([0.5*i, 0, 0])\n",
    "    system.add(temp)\n",
    "system.visualize()"
   ]
  },
  {
   "cell_type": "markdown",
   "id": "a133d7b5-8ba0-4944-84e6-29e2179fbab7",
   "metadata": {},
   "source": [
    "Alternatively, no shifting will really show the clear rotation."
   ]
  },
  {
   "cell_type": "code",
   "execution_count": 10,
   "id": "17ad11df-a52f-4e06-b075-46e28f112450",
   "metadata": {},
   "outputs": [
    {
     "data": {
      "application/3dmoljs_load.v0": "<div id=\"3dmolviewer_16870422941428192\"  style=\"position: relative; width: 640px; height: 480px\">\n        <p id=\"3dmolwarning_16870422941428192\" style=\"background-color:#ffcccc;color:black\">You appear to be running in JupyterLab (or JavaScript failed to load for some other reason).  You need to install the 3dmol extension: <br>\n        <tt>jupyter labextension install jupyterlab_3dmol</tt></p>\n        </div>\n<script>\n\nvar loadScriptAsync = function(uri){\n  return new Promise((resolve, reject) => {\n    //this is to ignore the existence of requirejs amd\n    var savedexports, savedmodule;\n    if (typeof exports !== 'undefined') savedexports = exports;\n    else exports = {}\n    if (typeof module !== 'undefined') savedmodule = module;\n    else module = {}\n\n    var tag = document.createElement('script');\n    tag.src = uri;\n    tag.async = true;\n    tag.onload = () => {\n        exports = savedexports;\n        module = savedmodule;\n        resolve();\n    };\n  var firstScriptTag = document.getElementsByTagName('script')[0];\n  firstScriptTag.parentNode.insertBefore(tag, firstScriptTag);\n});\n};\n\nif(typeof $3Dmolpromise === 'undefined') {\n$3Dmolpromise = null;\n  $3Dmolpromise = loadScriptAsync('https://cdnjs.cloudflare.com/ajax/libs/3Dmol/2.0.1/3Dmol-min.js');\n}\n\nvar viewer_16870422941428192 = null;\nvar warn = document.getElementById(\"3dmolwarning_16870422941428192\");\nif(warn) {\n    warn.parentNode.removeChild(warn);\n}\n$3Dmolpromise.then(function() {\nviewer_16870422941428192 = $3Dmol.createViewer(document.getElementById(\"3dmolviewer_16870422941428192\"),{backgroundColor:\"white\"});\nviewer_16870422941428192.zoomTo();\n\tviewer_16870422941428192.addModel(\"@<TRIPOS>MOLECULE\\nCompound\\n48 42 6 0 1\\nBIOPOLYMER\\nNO_CHARGES\\n@<TRIPOS>CRYSIN\\n    7.3329     6.9689     7.0572    90.0000    90.0000    90.0000 1 1\\n@<TRIPOS>ATOM\\n       1 C           -0.7591     0.0183     0.0212 C             1 Compound\\n       2 C            0.7591    -0.0183    -0.0212 C             1 Compound\\n       3 H           -1.1408    -0.8536     0.5931 H             1 Compound\\n       4 H           -1.0995     0.9536     0.5134 H             1 Compound\\n       5 H           -1.1654    -0.0180    -1.0116 H             1 Compound\\n       6 H            1.0995    -0.9536    -0.5134 H             1 Compound\\n       7 H            1.1408     0.8536    -0.5931 H             1 Compound\\n       8 H            1.1654     0.0180     1.0116 H             1 Compound\\n       9 C           -0.7591     0.0183     0.0212 C             2 Compound\\n      10 C            0.7591    -0.0183    -0.0212 C             2 Compound\\n      11 H           -1.1408    -0.8536     0.5931 H             2 Compound\\n      12 H           -1.0995     0.9536     0.5134 H             2 Compound\\n      13 H           -1.1654    -0.0180    -1.0116 H             2 Compound\\n      14 H            1.0976    -0.8586    -0.6632 H             2 Compound\\n      15 H            1.1471     0.9358    -0.4361 H             2 Compound\\n      16 H            1.1609    -0.1592     1.0043 H             2 Compound\\n      17 C           -0.7591     0.0183     0.0212 C             3 Compound\\n      18 C            0.7591    -0.0183    -0.0212 C             3 Compound\\n      19 H           -1.1408    -0.8536     0.5931 H             3 Compound\\n      20 H           -1.0995     0.9536     0.5134 H             3 Compound\\n      21 H           -1.1654    -0.0180    -1.0116 H             3 Compound\\n      22 H            1.0968    -0.7397    -0.7948 H             3 Compound\\n      23 H            1.1532     0.9902    -0.2674 H             3 Compound\\n      24 H            1.1557    -0.3326     0.9672 H             3 Compound\\n      25 C           -0.7591     0.0183     0.0212 C             4 Compound\\n      26 C            0.7591    -0.0183    -0.0212 C             4 Compound\\n      27 H           -1.1408    -0.8536     0.5931 H             4 Compound\\n      28 H           -1.0995     0.9536     0.5134 H             4 Compound\\n      29 H           -1.1654    -0.0180    -1.0116 H             4 Compound\\n      30 H            1.0971    -0.6002    -0.9044 H             4 Compound\\n      31 H            1.1587     1.0153    -0.0919 H             4 Compound\\n      32 H            1.1499    -0.4971     0.9013 H             4 Compound\\n      33 C           -0.7591     0.0183     0.0212 C             5 Compound\\n      34 C            0.7591    -0.0183    -0.0212 C             5 Compound\\n      35 H           -1.1408    -0.8536     0.5931 H             5 Compound\\n      36 H           -1.0995     0.9536     0.5134 H             5 Compound\\n      37 H           -1.1654    -0.0180    -1.0116 H             5 Compound\\n      38 H            1.0985    -0.4442    -0.9888 H             5 Compound\\n      39 H            1.1635     1.0103     0.0854 H             5 Compound\\n      40 H            1.1437    -0.6482     0.8085 H             5 Compound\\n      41 C           -0.7591     0.0183     0.0212 C             6 Compound\\n      42 C            0.7591    -0.0183    -0.0212 C             6 Compound\\n      43 H           -1.1408    -0.8536     0.5931 H             6 Compound\\n      44 H           -1.0995     0.9536     0.5134 H             6 Compound\\n      45 H           -1.1654    -0.0180    -1.0116 H             6 Compound\\n      46 H            1.1009    -0.2762    -1.0457 H             6 Compound\\n      47 H            1.1675     0.9754     0.2592 H             6 Compound\\n      48 H            1.1372    -0.7813     0.6914 H             6 Compound\\n@<TRIPOS>BOND\\n       1        1        2 1\\n       2        1        3 1\\n       3        1        4 1\\n       4        1        5 1\\n       5        2        6 1\\n       6        2        7 1\\n       7        2        8 1\\n       8        9       10 1\\n       9        9       11 1\\n      10        9       12 1\\n      11        9       13 1\\n      12       10       14 1\\n      13       10       15 1\\n      14       10       16 1\\n      15       17       18 1\\n      16       17       19 1\\n      17       17       20 1\\n      18       17       21 1\\n      19       18       22 1\\n      20       18       23 1\\n      21       18       24 1\\n      22       25       26 1\\n      23       25       27 1\\n      24       25       28 1\\n      25       25       29 1\\n      26       26       30 1\\n      27       26       31 1\\n      28       26       32 1\\n      29       33       34 1\\n      30       33       35 1\\n      31       33       36 1\\n      32       33       37 1\\n      33       34       38 1\\n      34       34       39 1\\n      35       34       40 1\\n      36       41       42 1\\n      37       41       43 1\\n      38       41       44 1\\n      39       41       45 1\\n      40       42       46 1\\n      41       42       47 1\\n      42       42       48 1\\n@<TRIPOS>SUBSTRUCTURE\\n       1 Compound        1 RESIDUE    0 **** ROOT      0\\n       2 Compound        9 RESIDUE    0 **** ROOT      0\\n       3 Compound       17 RESIDUE    0 **** ROOT      0\\n       4 Compound       25 RESIDUE    0 **** ROOT      0\\n       5 Compound       33 RESIDUE    0 **** ROOT      0\\n       6 Compound       41 RESIDUE    0 **** ROOT      0\\n\",\"mol2\");\n\tviewer_16870422941428192.setStyle({\"stick\": {\"radius\": 0.2, \"color\": \"grey\"}, \"sphere\": {\"scale\": 0.3, \"colorscheme\": {}}});\n\tviewer_16870422941428192.zoomTo();\nviewer_16870422941428192.render();\n});\n</script>",
      "text/html": [
       "<div id=\"3dmolviewer_16870422941428192\"  style=\"position: relative; width: 640px; height: 480px\">\n",
       "        <p id=\"3dmolwarning_16870422941428192\" style=\"background-color:#ffcccc;color:black\">You appear to be running in JupyterLab (or JavaScript failed to load for some other reason).  You need to install the 3dmol extension: <br>\n",
       "        <tt>jupyter labextension install jupyterlab_3dmol</tt></p>\n",
       "        </div>\n",
       "<script>\n",
       "\n",
       "var loadScriptAsync = function(uri){\n",
       "  return new Promise((resolve, reject) => {\n",
       "    //this is to ignore the existence of requirejs amd\n",
       "    var savedexports, savedmodule;\n",
       "    if (typeof exports !== 'undefined') savedexports = exports;\n",
       "    else exports = {}\n",
       "    if (typeof module !== 'undefined') savedmodule = module;\n",
       "    else module = {}\n",
       "\n",
       "    var tag = document.createElement('script');\n",
       "    tag.src = uri;\n",
       "    tag.async = true;\n",
       "    tag.onload = () => {\n",
       "        exports = savedexports;\n",
       "        module = savedmodule;\n",
       "        resolve();\n",
       "    };\n",
       "  var firstScriptTag = document.getElementsByTagName('script')[0];\n",
       "  firstScriptTag.parentNode.insertBefore(tag, firstScriptTag);\n",
       "});\n",
       "};\n",
       "\n",
       "if(typeof $3Dmolpromise === 'undefined') {\n",
       "$3Dmolpromise = null;\n",
       "  $3Dmolpromise = loadScriptAsync('https://cdnjs.cloudflare.com/ajax/libs/3Dmol/2.0.1/3Dmol-min.js');\n",
       "}\n",
       "\n",
       "var viewer_16870422941428192 = null;\n",
       "var warn = document.getElementById(\"3dmolwarning_16870422941428192\");\n",
       "if(warn) {\n",
       "    warn.parentNode.removeChild(warn);\n",
       "}\n",
       "$3Dmolpromise.then(function() {\n",
       "viewer_16870422941428192 = $3Dmol.createViewer(document.getElementById(\"3dmolviewer_16870422941428192\"),{backgroundColor:\"white\"});\n",
       "viewer_16870422941428192.zoomTo();\n",
       "\tviewer_16870422941428192.addModel(\"@<TRIPOS>MOLECULE\\nCompound\\n48 42 6 0 1\\nBIOPOLYMER\\nNO_CHARGES\\n@<TRIPOS>CRYSIN\\n    7.3329     6.9689     7.0572    90.0000    90.0000    90.0000 1 1\\n@<TRIPOS>ATOM\\n       1 C           -0.7591     0.0183     0.0212 C             1 Compound\\n       2 C            0.7591    -0.0183    -0.0212 C             1 Compound\\n       3 H           -1.1408    -0.8536     0.5931 H             1 Compound\\n       4 H           -1.0995     0.9536     0.5134 H             1 Compound\\n       5 H           -1.1654    -0.0180    -1.0116 H             1 Compound\\n       6 H            1.0995    -0.9536    -0.5134 H             1 Compound\\n       7 H            1.1408     0.8536    -0.5931 H             1 Compound\\n       8 H            1.1654     0.0180     1.0116 H             1 Compound\\n       9 C           -0.7591     0.0183     0.0212 C             2 Compound\\n      10 C            0.7591    -0.0183    -0.0212 C             2 Compound\\n      11 H           -1.1408    -0.8536     0.5931 H             2 Compound\\n      12 H           -1.0995     0.9536     0.5134 H             2 Compound\\n      13 H           -1.1654    -0.0180    -1.0116 H             2 Compound\\n      14 H            1.0976    -0.8586    -0.6632 H             2 Compound\\n      15 H            1.1471     0.9358    -0.4361 H             2 Compound\\n      16 H            1.1609    -0.1592     1.0043 H             2 Compound\\n      17 C           -0.7591     0.0183     0.0212 C             3 Compound\\n      18 C            0.7591    -0.0183    -0.0212 C             3 Compound\\n      19 H           -1.1408    -0.8536     0.5931 H             3 Compound\\n      20 H           -1.0995     0.9536     0.5134 H             3 Compound\\n      21 H           -1.1654    -0.0180    -1.0116 H             3 Compound\\n      22 H            1.0968    -0.7397    -0.7948 H             3 Compound\\n      23 H            1.1532     0.9902    -0.2674 H             3 Compound\\n      24 H            1.1557    -0.3326     0.9672 H             3 Compound\\n      25 C           -0.7591     0.0183     0.0212 C             4 Compound\\n      26 C            0.7591    -0.0183    -0.0212 C             4 Compound\\n      27 H           -1.1408    -0.8536     0.5931 H             4 Compound\\n      28 H           -1.0995     0.9536     0.5134 H             4 Compound\\n      29 H           -1.1654    -0.0180    -1.0116 H             4 Compound\\n      30 H            1.0971    -0.6002    -0.9044 H             4 Compound\\n      31 H            1.1587     1.0153    -0.0919 H             4 Compound\\n      32 H            1.1499    -0.4971     0.9013 H             4 Compound\\n      33 C           -0.7591     0.0183     0.0212 C             5 Compound\\n      34 C            0.7591    -0.0183    -0.0212 C             5 Compound\\n      35 H           -1.1408    -0.8536     0.5931 H             5 Compound\\n      36 H           -1.0995     0.9536     0.5134 H             5 Compound\\n      37 H           -1.1654    -0.0180    -1.0116 H             5 Compound\\n      38 H            1.0985    -0.4442    -0.9888 H             5 Compound\\n      39 H            1.1635     1.0103     0.0854 H             5 Compound\\n      40 H            1.1437    -0.6482     0.8085 H             5 Compound\\n      41 C           -0.7591     0.0183     0.0212 C             6 Compound\\n      42 C            0.7591    -0.0183    -0.0212 C             6 Compound\\n      43 H           -1.1408    -0.8536     0.5931 H             6 Compound\\n      44 H           -1.0995     0.9536     0.5134 H             6 Compound\\n      45 H           -1.1654    -0.0180    -1.0116 H             6 Compound\\n      46 H            1.1009    -0.2762    -1.0457 H             6 Compound\\n      47 H            1.1675     0.9754     0.2592 H             6 Compound\\n      48 H            1.1372    -0.7813     0.6914 H             6 Compound\\n@<TRIPOS>BOND\\n       1        1        2 1\\n       2        1        3 1\\n       3        1        4 1\\n       4        1        5 1\\n       5        2        6 1\\n       6        2        7 1\\n       7        2        8 1\\n       8        9       10 1\\n       9        9       11 1\\n      10        9       12 1\\n      11        9       13 1\\n      12       10       14 1\\n      13       10       15 1\\n      14       10       16 1\\n      15       17       18 1\\n      16       17       19 1\\n      17       17       20 1\\n      18       17       21 1\\n      19       18       22 1\\n      20       18       23 1\\n      21       18       24 1\\n      22       25       26 1\\n      23       25       27 1\\n      24       25       28 1\\n      25       25       29 1\\n      26       26       30 1\\n      27       26       31 1\\n      28       26       32 1\\n      29       33       34 1\\n      30       33       35 1\\n      31       33       36 1\\n      32       33       37 1\\n      33       34       38 1\\n      34       34       39 1\\n      35       34       40 1\\n      36       41       42 1\\n      37       41       43 1\\n      38       41       44 1\\n      39       41       45 1\\n      40       42       46 1\\n      41       42       47 1\\n      42       42       48 1\\n@<TRIPOS>SUBSTRUCTURE\\n       1 Compound        1 RESIDUE    0 **** ROOT      0\\n       2 Compound        9 RESIDUE    0 **** ROOT      0\\n       3 Compound       17 RESIDUE    0 **** ROOT      0\\n       4 Compound       25 RESIDUE    0 **** ROOT      0\\n       5 Compound       33 RESIDUE    0 **** ROOT      0\\n       6 Compound       41 RESIDUE    0 **** ROOT      0\\n\",\"mol2\");\n",
       "\tviewer_16870422941428192.setStyle({\"stick\": {\"radius\": 0.2, \"color\": \"grey\"}, \"sphere\": {\"scale\": 0.3, \"colorscheme\": {}}});\n",
       "\tviewer_16870422941428192.zoomTo();\n",
       "viewer_16870422941428192.render();\n",
       "});\n",
       "</script>"
      ]
     },
     "metadata": {},
     "output_type": "display_data"
    },
    {
     "data": {
      "text/plain": [
       "<py3Dmol.view at 0x161243fa0>"
      ]
     },
     "execution_count": 10,
     "metadata": {},
     "output_type": "execute_result"
    }
   ],
   "source": [
    "system = mb.Compound()\n",
    "for i in range(0,6):\n",
    "    temp = mb.clone(ethane_comp)\n",
    "    temp.rotate_dihedral((temp.children[0], temp.children[1]),phi=i*0.17 )\n",
    "    system.add(temp)\n",
    "system.visualize()"
   ]
  },
  {
   "cell_type": "code",
   "execution_count": null,
   "id": "2962a07a-2a2a-4ab3-93e5-8ed4757cc0a0",
   "metadata": {},
   "outputs": [],
   "source": []
  }
 ],
 "metadata": {
  "kernelspec": {
   "display_name": "Python 3 (ipykernel)",
   "language": "python",
   "name": "python3"
  },
  "language_info": {
   "codemirror_mode": {
    "name": "ipython",
    "version": 3
   },
   "file_extension": ".py",
   "mimetype": "text/x-python",
   "name": "python",
   "nbconvert_exporter": "python",
   "pygments_lexer": "ipython3",
   "version": "3.10.10"
  }
 },
 "nbformat": 4,
 "nbformat_minor": 5
}

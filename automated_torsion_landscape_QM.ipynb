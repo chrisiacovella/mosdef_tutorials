{
 "cells": [
  {
   "cell_type": "code",
   "execution_count": 39,
   "id": "73431c15-1ba6-4a28-9508-5e51c8e29742",
   "metadata": {},
   "outputs": [],
   "source": [
    "import mbuild as mb\n",
    "import numpy as np\n",
    "import warnings\n",
    "import math\n",
    "import matplotlib.pyplot as plt\n",
    "from jinja2 import Template\n",
    "warnings.filterwarnings('ignore')"
   ]
  },
  {
   "cell_type": "markdown",
   "id": "d757f47e-381e-4aa2-8370-7c1aaefd1bb9",
   "metadata": {},
   "source": [
    "This notebook will demonstrate how to perform automated exploration of the torsional energy, using mbuild to generate input configurations for nwchem."
   ]
  },
  {
   "cell_type": "code",
   "execution_count": 40,
   "id": "49a4f655-3be6-4b89-8db6-737aa5c86866",
   "metadata": {},
   "outputs": [],
   "source": [
    "ethane_comp = mb.load('CC', smiles=True)"
   ]
  },
  {
   "cell_type": "markdown",
   "id": "f8ee479d-d16f-468a-a8da-e7e4007a12ed",
   "metadata": {},
   "source": [
    "Let us print out the order of the particles in the compound to figure out which indices are the two carbon atoms.  We'll need these to do the rotation."
   ]
  },
  {
   "cell_type": "code",
   "execution_count": 41,
   "id": "0bda7c42-4d88-44bc-9ce9-af50d0793641",
   "metadata": {},
   "outputs": [
    {
     "name": "stdout",
     "output_type": "stream",
     "text": [
      "<C pos=([-0.0759  0.0018  0.0021]), 4 bonds, id: 5873243600>\n",
      "<C pos=([ 0.0759 -0.0018 -0.0021]), 4 bonds, id: 5871522448>\n",
      "<H pos=([-0.1141 -0.0854  0.0593]), 1 bonds, id: 5874656464>\n",
      "<H pos=([-0.1099  0.0954  0.0513]), 1 bonds, id: 5874758736>\n",
      "<H pos=([-0.1165 -0.0018 -0.1012]), 1 bonds, id: 5874703376>\n",
      "<H pos=([ 0.1099 -0.0954 -0.0513]), 1 bonds, id: 5852421136>\n",
      "<H pos=([ 0.1141  0.0854 -0.0593]), 1 bonds, id: 5874334864>\n",
      "<H pos=([0.1165 0.0018 0.1012]), 1 bonds, id: 5874864592>\n"
     ]
    }
   ],
   "source": [
    "for particle in ethane_comp.particles(): print(particle)"
   ]
  },
  {
   "cell_type": "markdown",
   "id": "a0d385f9-3d14-4217-9280-4ba3a82d2a37",
   "metadata": {},
   "source": [
    "The first two particles correspond to the carbons, so we just need to pass these, as a tuple, to the rotate_dihedral function. \n",
    "\n",
    "The function below will create an input file for nwchem based on a jinja template."
   ]
  },
  {
   "cell_type": "code",
   "execution_count": 4,
   "id": "6779540d-1975-4fc6-8f60-baf159e65d7c",
   "metadata": {},
   "outputs": [],
   "source": [
    "def create_file(dir, config, template='esp.nw.jinja' ):\n",
    "    fname = f'{dir}/esp.nw'\n",
    "    data = {'config': config}\n",
    "    \n",
    "    \n",
    "    if isinstance(template, str):\n",
    "        with open(template, \"r\") as f:\n",
    "            template = Template(f.read())\n",
    "            \n",
    "    rendered = template.render(data)\n",
    "    with open(fname, \"w\") as f:\n",
    "        f.write(rendered)\n",
    "        "
   ]
  },
  {
   "cell_type": "markdown",
   "id": "2b247500-9c61-4298-b947-20bc0fc7337b",
   "metadata": {},
   "source": [
    "First, let us run the esp_init.nw file, which will first perform geometry optimization before calculating the energy.  This will just ensure we are starting from a low energy state. "
   ]
  },
  {
   "cell_type": "code",
   "execution_count": 42,
   "id": "1e9325db-fa24-4afb-89ec-8d696311fd76",
   "metadata": {},
   "outputs": [],
   "source": [
    "temp = mb.clone(ethane_comp)\n",
    "msg = f'mkdir -p phi0'\n",
    "!{msg}\n",
    "\n",
    "# format the mbuild particles for nwchem input file\n",
    "formatted_configuration = ''\n",
    "for particle in temp.particles():\n",
    "    formatted_configuration += f'{particle.name}\\t{particle.pos[0]*10.0}\\t{particle.pos[1]*10.0}\\t{particle.pos[2]*10.0}\\n'\n",
    "\n",
    "create_file(dir = f'phi0', config =formatted_configuration,  template='esp_init.nw.jinja')\n",
    "\n",
    "msg = f'cd phi0 && mpirun -np 2 nwchem esp.nw > output.out'\n",
    "!{msg}\n"
   ]
  },
  {
   "cell_type": "markdown",
   "id": "4779ff90-e112-4254-bc7b-d6c5c25bb469",
   "metadata": {},
   "source": [
    "We need to parse the output file to get the updated coordinates and grab the energy.  "
   ]
  },
  {
   "cell_type": "code",
   "execution_count": 51,
   "id": "09b3c9e5-6c4a-4eae-9da3-c6825bba5999",
   "metadata": {},
   "outputs": [],
   "source": [
    "def parse_output(filename):\n",
    "    file = open(filename)\n",
    "    \n",
    "    # reading the file as a list line by line\n",
    "    content = file.readlines()\n",
    "    \n",
    "    find_last = True\n",
    "    energy_fetch = True\n",
    "    energy = 0\n",
    "    coords = []\n",
    "    for i in range(len(content)-1, 0, -1):\n",
    "        if 'task_energy%begin%cartesian coordinates' in content[i] and find_last==True:\n",
    "            for j in range(1, ethane_comp.n_particles+1):\n",
    "                coords.append([float(p) for p in content[i+j].replace('\\n','').strip().split(' ')])\n",
    "                find_last = False\n",
    "        if 'task_energy%end%total energy' in content[i] and energy_fetch == True:\n",
    "            energy = float(content[i-1])\n",
    "            energy_fetch = False\n",
    "    # closing the file\n",
    "    file.close()\n",
    "    return energy, coords\n",
    "\n",
    "energy_list = []\n",
    "phi_list = []\n",
    "# opening the data file\n",
    "file = \"phi0/ecce.out\"\n",
    "energy, coords = parse_output(file)\n",
    "# reading the file as a list line by line\n",
    "\n",
    "energy_list.append(energy)\n",
    "phi_list.append(0)\n",
    "\n",
    "#update the coordinates\n",
    "minimized = mb.clone(ethane_comp)\n",
    "for i, particle in enumerate(minimized.particles()):\n",
    "    particle.pos = np.array(coords[i])/10.0"
   ]
  },
  {
   "cell_type": "code",
   "execution_count": 52,
   "id": "34c075b4-d65b-49a4-8370-ca6eb2d60cc3",
   "metadata": {},
   "outputs": [
    {
     "name": "stdout",
     "output_type": "stream",
     "text": [
      "completed step 10 of 100\n",
      "--------------------------------------------------------------------------\n",
      "A system call failed during shared memory initialization that should\n",
      "not have.  It is likely that your MPI job will now either abort or\n",
      "experience performance degradation.\n",
      "\n",
      "  Local host:  MB22.local\n",
      "  System call: unlink(2) /var/folders/zy/g3vg1tz11yj0mq1721gql95c0000gn/T//ompi.MB22.501/pid.54228/1/vader_segment.MB22.501.4cef0001.0\n",
      "  Error:       No such file or directory (errno 2)\n",
      "--------------------------------------------------------------------------\n",
      "completed step 20 of 100\n",
      "completed step 30 of 100\n",
      "completed step 40 of 100\n",
      "completed step 50 of 100\n",
      "completed step 60 of 100\n",
      "completed step 70 of 100\n",
      "completed step 80 of 100\n",
      "completed step 90 of 100\n"
     ]
    }
   ],
   "source": [
    "max = 100\n",
    "for i in range(1,max):\n",
    "    \n",
    "    temp = mb.clone(minimized)\n",
    "    phi=round(i*2.0*math.pi/float(max),3)\n",
    "    temp.rotate_dihedral((temp.children[0], temp.children[1]),phi=phi )\n",
    "     \n",
    "    formatted_configuration = ''\n",
    "    for particle in temp.particles():\n",
    "        formatted_configuration += f'{particle.name}\\t{particle.pos[0]*10.0}\\t{particle.pos[1]*10.0}\\t{particle.pos[2]*10.0}\\n'\n",
    "\n",
    "    msg = f'mkdir -p phi{phi}'\n",
    "    \n",
    "    !{msg}\n",
    "    create_file(dir = f'phi{phi}', config =formatted_configuration,  template='esp.nw.jinja')\n",
    "\n",
    "    msg = f'cd phi{phi} && mpirun -np 2 nwchem esp.nw > output.out'\n",
    "    !{msg}\n",
    "    if i%10 == 0:\n",
    "        print(f'completed step {i} of {max}')\n",
    "   \n",
    "\n",
    "    energy, coords = parse_output(f'phi{phi}/ecce.out')\n",
    "    \n",
    "    if energy != 0:\n",
    "        energy_list.append(energy)\n",
    "        phi_list.append(phi)    \n",
    "    "
   ]
  },
  {
   "cell_type": "markdown",
   "id": "bb84d612-a25f-4439-8425-f7fdd1b464ec",
   "metadata": {},
   "source": [
    "Let us plot the result.  Note, I'm just going to assume our starting configuration has a phi value of 60 degrees, as we started in the energy minimized staggered configuration. To be rigorous this should actually be calculated.  Energy barrier of about 3.1 kcal/mol agrees well with prior calculations and experiment.  \n",
    "\n",
    "To do:\n",
    "- Calculation of the initial phi to be more rigorous with my shifting.\n",
    "- Include restraints on the dihedral of interest, such that geometry optimization of the rest of the molecule can be performed before energy calculation. This shouldn't be a major favor for ethane, but might for a more complex molecule\n",
    "-  Set up template to accept different QM approaches (e.g. MP2 vs RHF)."
   ]
  },
  {
   "cell_type": "code",
   "execution_count": 59,
   "id": "9d060747-e15c-4fec-891d-63e2e8e87c45",
   "metadata": {},
   "outputs": [
    {
     "name": "stdout",
     "output_type": "stream",
     "text": [
      "max barrier height:  3.1  kcal/mol\n"
     ]
    },
    {
     "data": {
      "text/plain": [
       "Text(0, 0.5, 'energy kcal/mol ')"
      ]
     },
     "execution_count": 59,
     "metadata": {},
     "output_type": "execute_result"
    },
    {
     "data": {
      "image/png": "[encoded data removed]",
      "text/plain": [
       "<Figure size 640x480 with 1 Axes>"
      ]
     },
     "metadata": {},
     "output_type": "display_data"
    }
   ],
   "source": [
    "zeroed = []\n",
    "for energy in energy_list:\n",
    "    zeroed.append((energy-energy_list[0])* 627.50956)\n",
    "angles = []\n",
    "for phi in phi_list:\n",
    "    angles.append(60+phi*180.0/math.pi)\n",
    "\n",
    "print(\"max barrier height: \", round(np.max(np.array(zeroed)), 1), ' kcal/mol')\n",
    "fig, ax = plt.subplots(1,1)\n",
    "ax.plot(angles, zeroed)\n",
    "ax.set_xlabel('phi degrees')\n",
    "ax.set_ylabel('energy kcal/mol ')"
   ]
  }
 ],
 "metadata": {
  "kernelspec": {
   "display_name": "Python 3 (ipykernel)",
   "language": "python",
   "name": "python3"
  },
  "language_info": {
   "codemirror_mode": {
    "name": "ipython",
    "version": 3
   },
   "file_extension": ".py",
   "mimetype": "text/x-python",
   "name": "python",
   "nbconvert_exporter": "python",
   "pygments_lexer": "ipython3",
   "version": "3.11.4"
  }
 },
 "nbformat": 4,
 "nbformat_minor": 5
}
